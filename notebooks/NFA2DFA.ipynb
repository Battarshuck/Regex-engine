{
 "cells": [
  {
   "cell_type": "code",
   "execution_count": 170,
   "metadata": {},
   "outputs": [],
   "source": [
    "import json\n",
    "import graphviz\n",
    "from graphviz import Digraph"
   ]
  },
  {
   "cell_type": "code",
   "execution_count": 171,
   "metadata": {},
   "outputs": [
    {
     "name": "stdout",
     "output_type": "stream",
     "text": [
      "{'startingState': ['S3'], 'S3': {'isTerminatingState': False, 'epsilon': ['S1', 'S4']}, 'S4': {'isTerminatingState': False, 'epsilon': ['S7']}, 'S1': {'isTerminatingState': False, 'a': ['S2']}, 'S2': {'isTerminatingState': False, 'epsilon': ['S3', 'S4']}, 'S7': {'isTerminatingState': False, 'epsilon': ['S5', 'S8']}, 'S8': {'isTerminatingState': False, 'epsilon': ['S15']}, 'S5': {'isTerminatingState': False, 'b': ['S6']}, 'S6': {'isTerminatingState': False, 'epsilon': ['S7', 'S8']}, 'S15': {'isTerminatingState': False, 'epsilon': ['S13', 'S16']}, 'S16': {'isTerminatingState': True}, 'S13': {'isTerminatingState': False, 'epsilon': ['S11', 'S9']}, 'S14': {'isTerminatingState': False, 'epsilon': ['S15', 'S16']}, 'S11': {'isTerminatingState': False, 'b': ['S12']}, 'S12': {'isTerminatingState': False, 'epsilon': ['S14']}, 'S9': {'isTerminatingState': False, 'a': ['S10']}, 'S10': {'isTerminatingState': False, 'epsilon': ['S14']}}\n",
      "{'S16'}\n"
     ]
    }
   ],
   "source": [
    "with open('../testcases/test4/NFA.json') as f:\n",
    "    nfa = json.load(f)\n",
    "\n",
    "\n",
    "terminating_states = set()\n",
    "#loop through the states, and make each transition a list if it isn't already\n",
    "for state in nfa:\n",
    "    if state == 'startingState':\n",
    "        nfa[state] = [nfa[state]]\n",
    "        continue\n",
    "    \n",
    "    for transition in nfa[state]:\n",
    "        if transition == 'isTerminatingState':\n",
    "            if nfa[state][transition] == True:\n",
    "                terminating_states.add(state)\n",
    "            continue\n",
    "        if type(nfa[state][transition]) != list:\n",
    "            nfa[state][transition] = [nfa[state][transition]]\n",
    "\n",
    "print(nfa)\n",
    "print(terminating_states)"
   ]
  },
  {
   "cell_type": "markdown",
   "metadata": {},
   "source": [
    "## NFA 2 DFA"
   ]
  },
  {
   "cell_type": "code",
   "execution_count": 172,
   "metadata": {},
   "outputs": [
    {
     "name": "stdout",
     "output_type": "stream",
     "text": [
      "{'startingState': frozenset({'S9', 'S7', 'S3', 'S5', 'S15', 'S16', 'S4', 'S13', 'S8', 'S11', 'S1'}), frozenset({'S9', 'S7', 'S3', 'S5', 'S15', 'S16', 'S4', 'S13', 'S8', 'S11', 'S1'}): {'isTerminatingState': True, 'a': frozenset({'S9', 'S7', 'S3', 'S2', 'S10', 'S5', 'S15', 'S16', 'S4', 'S14', 'S8', 'S11', 'S13', 'S1'}), 'b': frozenset({'S14', 'S9', 'S7', 'S5', 'S15', 'S16', 'S12', 'S6', 'S8', 'S11', 'S13'})}, frozenset({'S9', 'S7', 'S3', 'S2', 'S10', 'S5', 'S15', 'S16', 'S4', 'S14', 'S8', 'S11', 'S13', 'S1'}): {'isTerminatingState': True, 'a': frozenset({'S9', 'S7', 'S3', 'S2', 'S10', 'S5', 'S15', 'S16', 'S4', 'S14', 'S8', 'S11', 'S13', 'S1'}), 'b': frozenset({'S14', 'S9', 'S7', 'S5', 'S15', 'S16', 'S12', 'S6', 'S8', 'S11', 'S13'})}, frozenset({'S14', 'S9', 'S7', 'S5', 'S15', 'S16', 'S12', 'S6', 'S8', 'S11', 'S13'}): {'isTerminatingState': True, 'a': frozenset({'S15', 'S16', 'S9', 'S14', 'S11', 'S10', 'S13'}), 'b': frozenset({'S14', 'S9', 'S7', 'S5', 'S15', 'S16', 'S12', 'S6', 'S8', 'S11', 'S13'})}, frozenset({'S15', 'S16', 'S9', 'S14', 'S11', 'S10', 'S13'}): {'isTerminatingState': True, 'a': frozenset({'S15', 'S16', 'S9', 'S14', 'S11', 'S10', 'S13'}), 'b': frozenset({'S15', 'S16', 'S12', 'S9', 'S14', 'S11', 'S13'})}, frozenset({'S15', 'S16', 'S12', 'S9', 'S14', 'S11', 'S13'}): {'isTerminatingState': True, 'a': frozenset({'S15', 'S16', 'S9', 'S14', 'S11', 'S10', 'S13'}), 'b': frozenset({'S15', 'S16', 'S12', 'S9', 'S14', 'S11', 'S13'})}}\n"
     ]
    }
   ],
   "source": [
    "#global variable to store the closures of each state\n",
    "#used to avoid recalculating the closure of a state\n",
    "global_closuers = dict()\n",
    "\n",
    "def get_possible_inputs(states):\n",
    "    possible_transitions = set()\n",
    "    # print(states)\n",
    "    for state in states:\n",
    "        for symbol in nfa[state]:\n",
    "            if symbol != \"epsilon\" and symbol != \"isTerminatingState\":\n",
    "                # print(symbol)\n",
    "                possible_transitions.add(symbol)\n",
    "    return possible_transitions\n",
    "\n",
    "def epsilon_closure(nfa, state, prev_closures):\n",
    "    # print(state)\n",
    "    if state in global_closuers:\n",
    "        return global_closuers[state]\n",
    "\n",
    "    #initialize the closure of the current state\n",
    "    # with the current state\n",
    "    closure = set()\n",
    "    closure.add(state)\n",
    "    prev_closures.add(state)\n",
    "    # add epsilon transitions of the current state\n",
    "    epsilon_transitions = set(nfa[state].get(\"epsilon\", []))\n",
    "    \n",
    "    # print(epsilon_transitions)\n",
    "    for s in epsilon_transitions:\n",
    "        #union of the current closure and the closure of the next state\n",
    "        if s not in prev_closures:\n",
    "            closure |= epsilon_closure(nfa, s, prev_closures)\n",
    "\n",
    "    global_closuers[state] = closure\n",
    "    return closure\n",
    "\n",
    "def move(nfa, states, symbol):\n",
    "    result = set()\n",
    "    for state in states:\n",
    "        if symbol in nfa[state]:\n",
    "            if symbol == \"epsilon\" or symbol == \"isTerminatingState\":\n",
    "                continue\n",
    "            #print(nfa[state][symbol])\n",
    "            result |= set(nfa[state][symbol])\n",
    "    return result\n",
    "\n",
    "def nfa_to_dfa(nfa):\n",
    "    dfa = {}\n",
    "    #used to use as a key in dfa, sets are not hashable\n",
    "    #because they are mutable, but frozensets are immutable\n",
    "    starting_state = nfa[\"startingState\"][0]\n",
    "    start_state = frozenset(epsilon_closure(nfa, starting_state, set()))\n",
    "    is_terminating = False\n",
    "\n",
    "    dfa[\"startingState\"] = start_state\n",
    "    dfa[start_state] = {}\n",
    "    queue = [start_state]\n",
    "    while queue:\n",
    "        current_state = queue.pop(0)\n",
    "        if current_state & terminating_states:\n",
    "            is_terminating = True\n",
    "        dfa[current_state][\"isTerminatingState\"] = is_terminating\n",
    "            \n",
    "        possible_inputs = get_possible_inputs(current_state)\n",
    "        for minput in possible_inputs:\n",
    "            possible_transitions = move(nfa, current_state, minput)\n",
    "            next_states_closures = set()\n",
    "            for next_state in possible_transitions:\n",
    "                next_states_closures |= epsilon_closure(nfa, next_state, set())\n",
    "                \n",
    "            closure = frozenset(next_states_closures)\n",
    "            if closure not in dfa:\n",
    "                dfa[closure] = {}\n",
    "                queue.append(closure)\n",
    "            dfa[current_state][minput] = closure\n",
    "            \n",
    "    return dfa\n",
    "\n",
    "dfa = nfa_to_dfa(nfa)\n",
    "print(dfa)"
   ]
  },
  {
   "cell_type": "markdown",
   "metadata": {},
   "source": [
    "## Clean States"
   ]
  },
  {
   "cell_type": "code",
   "execution_count": 173,
   "metadata": {},
   "outputs": [],
   "source": [
    "def clean_DFA(dfa):\n",
    "    index = 1\n",
    "    dfa_cleaned = {}\n",
    "    mapping = {}\n",
    "\n",
    "    mapping[dfa[\"startingState\"]] = \"S0\"\n",
    "\n",
    "    for state in dfa:\n",
    "        \n",
    "        if state == \"startingState\":\n",
    "            continue\n",
    "\n",
    "        if mapping.get(state) == None:      \n",
    "            state_name = \"S\" + str(index)\n",
    "            mapping[state] = state_name\n",
    "            index += 1\n",
    "\n",
    "\n",
    "    for state in dfa:\n",
    "        if state == \"startingState\":\n",
    "            dfa_cleaned[state] = mapping[dfa[state]]\n",
    "            continue\n",
    "        \n",
    "        dfa_cleaned[mapping[state]] = {\"isTerminatingState\": dfa[state][\"isTerminatingState\"]}\n",
    "\n",
    "        for transition in dfa[state]:\n",
    "            if transition == \"isTerminatingState\":\n",
    "                continue\n",
    "\n",
    "            dfa_cleaned[mapping[state]][transition] = {mapping[dfa[state][transition]]}\n",
    "\n",
    "    return dfa_cleaned\n",
    "\n",
    "dfa_cleaned = clean_DFA(dfa)"
   ]
  },
  {
   "cell_type": "markdown",
   "metadata": {},
   "source": [
    "## Draw DFA"
   ]
  },
  {
   "cell_type": "code",
   "execution_count": 174,
   "metadata": {},
   "outputs": [],
   "source": [
    "def draw_dfa(dfa):\n",
    "    dot = graphviz.Digraph()\n",
    "    starting_state = dfa['startingState']\n",
    "    for state, transitions in dfa.items():\n",
    "        if state == 'startingState':\n",
    "            continue \n",
    "        if state == starting_state:\n",
    "            dot.node(state, shape='doublecircle' if transitions['isTerminatingState'] else 'circle', color='blue')\n",
    "        else:\n",
    "            dot.node(state, shape='doublecircle' if transitions['isTerminatingState'] else 'circle')\n",
    "\n",
    "        for symbol, next_states in transitions.items():\n",
    "            if symbol != 'isTerminatingState' and symbol != 'startingState':\n",
    "                for next_state in next_states:\n",
    "                    dot.edge(state, next_state, label=symbol)\n",
    "\n",
    "    dot.render('dfa_graph', format='png', cleanup=True)"
   ]
  },
  {
   "cell_type": "code",
   "execution_count": 175,
   "metadata": {},
   "outputs": [],
   "source": [
    "# #convert all sets to frozensets\n",
    "# for state in dfa_cleaned:\n",
    "#     for transition in dfa_cleaned[state]:\n",
    "#         if transition == \"isTerminatingState\":\n",
    "#             continue\n",
    "#         dfa_cleaned[state][transition] = frozenset(dfa_cleaned[state][transition])\n",
    "\n",
    "# for state in dfa:\n",
    "#     for transition in dfa[state]:\n",
    "#         if transition == \"isTerminatingState\":\n",
    "#             continue\n",
    "#         dfa[state][transition] = frozenset(dfa[state][transition])"
   ]
  },
  {
   "cell_type": "code",
   "execution_count": 176,
   "metadata": {},
   "outputs": [],
   "source": [
    "draw_dfa(dfa_cleaned)"
   ]
  },
  {
   "cell_type": "markdown",
   "metadata": {},
   "source": [
    "## Minimize DFA"
   ]
  },
  {
   "cell_type": "code",
   "execution_count": 177,
   "metadata": {},
   "outputs": [],
   "source": [
    "def minimize_dfa(dfa):\n",
    "    #initialize the partition\n",
    "    partition = [set(), set()]\n",
    "    for state in dfa:\n",
    "        if dfa[state][\"isTerminatingState\"]:\n",
    "            partition[0].add(state)\n",
    "        else:\n",
    "            partition[1].add(state)\n",
    "    print(partition)\n",
    "\n"
   ]
  },
  {
   "cell_type": "code",
   "execution_count": null,
   "metadata": {},
   "outputs": [],
   "source": []
  }
 ],
 "metadata": {
  "kernelspec": {
   "display_name": "Python 3",
   "language": "python",
   "name": "python3"
  },
  "language_info": {
   "codemirror_mode": {
    "name": "ipython",
    "version": 3
   },
   "file_extension": ".py",
   "mimetype": "text/x-python",
   "name": "python",
   "nbconvert_exporter": "python",
   "pygments_lexer": "ipython3",
   "version": "3.12.2"
  }
 },
 "nbformat": 4,
 "nbformat_minor": 2
}
