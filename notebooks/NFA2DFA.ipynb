{
 "cells": [
  {
   "cell_type": "code",
   "execution_count": 1,
   "metadata": {},
   "outputs": [],
   "source": [
    "import json"
   ]
  },
  {
   "cell_type": "code",
   "execution_count": 69,
   "metadata": {},
   "outputs": [
    {
     "name": "stdout",
     "output_type": "stream",
     "text": [
      "{'startingState': ['S3'], 'S3': {'isTerminatingState': False, 'ε': ['S1', 'S4']}, 'S4': {'isTerminatingState': False, 'ε': ['S7']}, 'S1': {'isTerminatingState': False, 'a': ['S2']}, 'S2': {'isTerminatingState': False, 'ε': ['S3', 'S4']}, 'S7': {'isTerminatingState': False, 'ε': ['S5', 'S8']}, 'S8': {'isTerminatingState': False, 'ε': ['S9']}, 'S5': {'isTerminatingState': False, 'b': ['S6']}, 'S6': {'isTerminatingState': False, 'ε': ['S7', 'S8']}, 'S9': {'isTerminatingState': False, 'c': ['S10']}, 'S10': {'isTerminatingState': False, 'ε': ['S11']}, 'S11': {'isTerminatingState': False, 'a': ['S12']}, 'S12': {'isTerminatingState': True}}\n",
      "{'S12'}\n"
     ]
    }
   ],
   "source": [
    "with open('../testcases/test1/NFA.json') as f:\n",
    "    nfa = json.load(f)\n",
    "\n",
    "\n",
    "terminating_states = set()\n",
    "#loop through the states, and make each transition a list if it isn't already\n",
    "for state in nfa:\n",
    "    if state == 'startingState':\n",
    "        nfa[state] = [nfa[state]]\n",
    "        continue\n",
    "    \n",
    "    for transition in nfa[state]:\n",
    "        if transition == 'isTerminatingState':\n",
    "            if nfa[state][transition] == True:\n",
    "                terminating_states.add(state)\n",
    "            continue\n",
    "        if type(nfa[state][transition]) != list:\n",
    "            nfa[state][transition] = [nfa[state][transition]]\n",
    "\n",
    "print(nfa)\n",
    "print(terminating_states)"
   ]
  },
  {
   "cell_type": "markdown",
   "metadata": {},
   "source": [
    "## NFA 2 DFA"
   ]
  },
  {
   "cell_type": "code",
   "execution_count": 80,
   "metadata": {},
   "outputs": [
    {
     "name": "stdout",
     "output_type": "stream",
     "text": [
      "{frozenset({'S8', 'S5', 'S7', 'S4', 'S9', 'S3', 'S1'}): {'isTerminatingState': False, 'a': {'S8', 'S2', 'S5', 'S7', 'S4', 'S9', 'S3', 'S1'}, 'b': {'S8', 'S5', 'S7', 'S6', 'S9'}, 'c': {'S11', 'S10'}}, frozenset({'S8', 'S2', 'S5', 'S7', 'S4', 'S9', 'S3', 'S1'}): {'isTerminatingState': False, 'a': {'S8', 'S2', 'S5', 'S7', 'S4', 'S9', 'S3', 'S1'}, 'b': {'S8', 'S5', 'S7', 'S6', 'S9'}, 'c': {'S11', 'S10'}}, frozenset({'S8', 'S5', 'S7', 'S6', 'S9'}): {'isTerminatingState': False, 'b': {'S8', 'S5', 'S7', 'S6', 'S9'}, 'c': {'S11', 'S10'}}, frozenset({'S11', 'S10'}): {'isTerminatingState': False, 'a': {'S12'}}, frozenset({'S12'}): {'isTerminatingState': True}}\n"
     ]
    }
   ],
   "source": [
    "#global variable to store the closures of each state\n",
    "#used to avoid recalculating the closure of a state\n",
    "global_closuers = dict()\n",
    "\n",
    "def get_possible_inputs(states):\n",
    "    possible_transitions = set()\n",
    "    # print(states)\n",
    "    for state in states:\n",
    "        for symbol in nfa[state]:\n",
    "            if symbol != \"ε\" and symbol != \"isTerminatingState\":\n",
    "                # print(symbol)\n",
    "                possible_transitions.add(symbol)\n",
    "    return possible_transitions\n",
    "\n",
    "def epsilon_closure(nfa, state, prev_closure=set()):\n",
    "    # print(state)\n",
    "    if state in global_closuers:\n",
    "        return global_closuers[state]\n",
    "\n",
    "\n",
    "    #initialize the closure of the current state\n",
    "    # with the current state\n",
    "    closure = set()\n",
    "    closure.add(state)\n",
    "    \n",
    "    # add epsilon transitions of the current state\n",
    "    epsilon_transitions = set(nfa[state].get(\"ε\", []))\n",
    "    \n",
    "    # print(epsilon_transitions)\n",
    "    for s in epsilon_transitions:\n",
    "        #to avoid infinite loop, check if the state is already in the closure\n",
    "        if s not in prev_closure:\n",
    "            #union of the current closure and the closure of the next state\n",
    "            closure |= epsilon_closure(nfa, s, closure)\n",
    "\n",
    "    global_closuers[state] = closure\n",
    "    return closure\n",
    "\n",
    "def move(nfa, states, symbol):\n",
    "    result = set()\n",
    "    for state in states:\n",
    "        if symbol in nfa[state]:\n",
    "            if symbol == \"ε\" or symbol == \"isTerminatingState\":\n",
    "                continue\n",
    "            #print(nfa[state][symbol])\n",
    "            result |= set(nfa[state][symbol])\n",
    "    return result\n",
    "\n",
    "def nfa_to_dfa(nfa):\n",
    "    dfa = {}\n",
    "    #used to use as a key in dfa, sets are not hashable\n",
    "    #because they are mutable, but frozensets are immutable\n",
    "    starting_state = nfa[\"startingState\"][0]\n",
    "    start_state = frozenset(epsilon_closure(nfa, starting_state))\n",
    "    is_terminating = False\n",
    "\n",
    "    dfa[start_state] = {}\n",
    "    queue = [start_state]\n",
    "    while queue:\n",
    "        current_state = queue.pop(0)\n",
    "        if current_state & terminating_states:\n",
    "            is_terminating = True\n",
    "        dfa[current_state][\"isTerminatingState\"] = is_terminating\n",
    "            \n",
    "        possible_inputs = get_possible_inputs(current_state)\n",
    "        for minput in possible_inputs:\n",
    "            possible_transitions = move(nfa, current_state, minput)\n",
    "            next_states_closures = set()\n",
    "            for next_state in possible_transitions:\n",
    "                next_states_closures |= epsilon_closure(nfa, next_state)\n",
    "                \n",
    "            closure = frozenset(next_states_closures)\n",
    "            if closure not in dfa:\n",
    "                dfa[closure] = {}\n",
    "                queue.append(closure)\n",
    "            dfa[current_state][minput] = next_states_closures\n",
    "            \n",
    "    return dfa\n",
    "\n",
    "dfa = nfa_to_dfa(nfa)\n",
    "print(dfa)"
   ]
  },
  {
   "cell_type": "markdown",
   "metadata": {},
   "source": [
    "## Clean States"
   ]
  },
  {
   "cell_type": "code",
   "execution_count": 85,
   "metadata": {},
   "outputs": [
    {
     "name": "stdout",
     "output_type": "stream",
     "text": [
      "{'S0': {'isTerminatingState': False, 'a': {'S8', 'S2', 'S5', 'S7', 'S4', 'S9', 'S3', 'S1'}, 'b': {'S8', 'S5', 'S7', 'S6', 'S9'}, 'c': {'S11', 'S10'}}, 'S1': {'isTerminatingState': False, 'a': {'S8', 'S2', 'S5', 'S7', 'S4', 'S9', 'S3', 'S1'}, 'b': {'S8', 'S5', 'S7', 'S6', 'S9'}, 'c': {'S11', 'S10'}}, 'S2': {'isTerminatingState': False, 'b': {'S8', 'S5', 'S7', 'S6', 'S9'}, 'c': {'S11', 'S10'}}, 'S3': {'isTerminatingState': False, 'a': {'S12'}}, 'S4': {'isTerminatingState': True}}\n"
     ]
    }
   ],
   "source": [
    "index = 0\n",
    "dfa_cleaned = {}\n",
    "for state in dfa:\n",
    "    state_name = \"S\" + str(index)\n",
    "    dfa_cleaned[state_name] = {}\n",
    "    for transition in dfa[state]:\n",
    "        dfa_cleaned[state_name][transition] = dfa[state][transition]\n",
    "    index += 1\n",
    "\n",
    "print(dfa_cleaned)"
   ]
  },
  {
   "cell_type": "markdown",
   "metadata": {},
   "source": [
    "## Minimize DFA"
   ]
  },
  {
   "cell_type": "code",
   "execution_count": 86,
   "metadata": {},
   "outputs": [
    {
     "name": "stdout",
     "output_type": "stream",
     "text": [
      "[{'S4'}, {'S0', 'S2', 'S3', 'S1'}]\n",
      "None\n"
     ]
    }
   ],
   "source": [
    "def minimize_dfa(dfa):\n",
    "    #initialize the partition\n",
    "    partition = [set(), set()]\n",
    "    for state in dfa:\n",
    "        if dfa[state][\"isTerminatingState\"]:\n",
    "            partition[0].add(state)\n",
    "        else:\n",
    "            partition[1].add(state)\n",
    "    print(partition)\n",
    "\n"
   ]
  },
  {
   "cell_type": "code",
   "execution_count": null,
   "metadata": {},
   "outputs": [],
   "source": []
  }
 ],
 "metadata": {
  "kernelspec": {
   "display_name": "Python 3",
   "language": "python",
   "name": "python3"
  },
  "language_info": {
   "codemirror_mode": {
    "name": "ipython",
    "version": 3
   },
   "file_extension": ".py",
   "mimetype": "text/x-python",
   "name": "python",
   "nbconvert_exporter": "python",
   "pygments_lexer": "ipython3",
   "version": "3.10.12"
  }
 },
 "nbformat": 4,
 "nbformat_minor": 2
}
